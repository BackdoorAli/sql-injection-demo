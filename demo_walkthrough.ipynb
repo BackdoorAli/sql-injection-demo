{
 "cells": [
  {
   "cell_type": "markdown",
   "id": "8ee0c996",
   "metadata": {},
   "source": [
    "# SQL Injection Demo Walkthrough\n",
    "This notebook walks through how SQL injection works, how it can be exploited, and how to defend against it using secure coding practices.\n",
    "\n",
    "Author: [@Mira2720](https://github.com/Mira2720)"
   ]
  },
  {
   "cell_type": "markdown",
   "id": "165c6f9c",
   "metadata": {},
   "source": [
    "## What is SQL Injection?\n",
    "SQL Injection (SQLi) is a code injection technique that might destroy your database. It's one of the most common web hacking techniques."
   ]
  },
  {
   "cell_type": "code",
   "execution_count": null,
   "id": "c11b281b",
   "metadata": {},
   "outputs": [],
   "source": [
    "# Simulated insecure SQL query\n",
    "username = \"' OR 1=1 --\"\n",
    "password = \"any\"\n",
    "query = f\"SELECT * FROM users WHERE username = '{username}' AND password = '{password}'\"\n",
    "print(query)"
   ]
  },
  {
   "cell_type": "markdown",
   "id": "8b2d6571",
   "metadata": {},
   "source": [
    "## Exploit Scenario\n",
    "This input: `' OR 1=1 --` will make the WHERE clause always true. Result: attacker logs in without valid credentials."
   ]
  },
  {
   "cell_type": "markdown",
   "id": "c352b2d1",
   "metadata": {},
   "source": [
    "## Secure Query (using parameterized queries)\n",
    "This is how you **prevent** SQL injection."
   ]
  },
  {
   "cell_type": "code",
   "execution_count": null,
   "id": "5bf0856c",
   "metadata": {},
   "outputs": [],
   "source": [
    "# Parameterized query example\n",
    "query = \"SELECT * FROM users WHERE username = ? AND password = ?\"\n",
    "params = ('admin', 'admin123')\n",
    "print(\"Safe query structure:\", query, \"\\nWith values:\", params)"
   ]
  },
  {
   "cell_type": "markdown",
   "id": "a4bef9df",
   "metadata": {},
   "source": [
    "## Summary\n",
    "- ❌ Avoid string formatting in SQL queries\n",
    "- ✅ Always use parameterized statements\n",
    "- ✅ Validate and sanitize user input\n",
    "\n",
    "Try both versions of the app (`run_insecure.py` and `run_secure.py`) to compare the behavior."
   ]
  },
  {
   "cell_type": "markdown",
   "id": "b3a30d57",
   "metadata": {},
   "source": [
    "\n",
    "## Understanding the Test Files\n",
    "\n",
    "We created four test files to verify the functionality and security of both app versions.\n",
    "\n",
    "| Test File                      | Description                              | Target App      | Expected Result        |\n",
    "|-------------------------------|------------------------------------------|------------------|------------------------|\n",
    "| `test_insecure_app_failed.py` | Uses SQL injection to bypass login       | Insecure App     | ✅ Injection should succeed |\n",
    "| `test_insecure_app_pass.py`   | Tests login with correct credentials     | Insecure App     | ✅ Should allow login  |\n",
    "| `test_secure_app_failed.py`   | Uses SQL injection to bypass login       | Secure App       | ✅ Injection should fail |\n",
    "| `test_secure_app_pass.py`     | Tests login with correct credentials     | Secure App       | ✅ Should allow login  |\n",
    "\n",
    "These tests allow for the demonstration and verification the vulnerability and its fix.\n"
   ]
  },
  {
   "cell_type": "markdown",
   "id": "7ad62ca4",
   "metadata": {},
   "source": [
    "# 🟥 Red Team: Attacker View\n",
    "\n",
    "This section walks through the attacker's perspective using SQL Injections to exploit a vulnerable login form.\n"
   ]
  },
  {
   "cell_type": "code",
   "execution_count": null,
   "id": "2ce1b0f4",
   "metadata": {},
   "outputs": [],
   "source": [
    "# Target URLs\n",
    "insecure_url = \"http://127.0.0.1:5000/login\"\n",
    "secure_url = \"http://127.0.0.1:5001/login\"\n",
    "\n",
    "# SQL Injection payload\n",
    "payload = {\n",
    "    \"username\": \"' OR 1=1 --\",\n",
    "    \"password\": \"anything\"\n",
    "}\n"
   ]
  },
  {
   "cell_type": "code",
   "execution_count": null,
   "id": "78f12c16",
   "metadata": {},
   "outputs": [],
   "source": [
    "import requests\n",
    "\n",
    "# Attempt login on both apps\n",
    "insecure_response = requests.post(insecure_url, data=payload)\n",
    "secure_response = requests.post(secure_url, data=payload)\n",
    "\n",
    "print(\"Insecure App Response:\")\n",
    "print(insecure_response.text)\n",
    "print(\"\\nSecure App Response:\")\n",
    "print(secure_response.text)\n"
   ]
  },
  {
   "cell_type": "markdown",
   "id": "b7ed686b",
   "metadata": {},
   "source": [
    "# 🟦 Blue Team: Defender View\n",
    "\n",
    "This section highlights how the secure app defends against SQL injections using proper coding practices and a secure design structure.\n"
   ]
  },
  {
   "cell_type": "markdown",
   "id": "a514c506",
   "metadata": {},
   "source": [
    "## How SQL Injection is Prevented\n",
    "\n",
    "The secure version of the application uses several techniques to mitigate SQL injection attacks:\n",
    "\n",
    "- ✅ **Parameterized queries** via placeholders (e.g., `?`) that separate code from data.\n",
    "- ✅ **Input sanitization** to reject suspicious or malformed data.\n",
    "- ✅ **Error handling** that avoids leaking database logic to attackers.\n",
    "- ✅ **Limited permissions** on database accounts (principle of least privilege).\n",
    "\n",
    "These best practices help ensure user input cannot manipulate SQL query logic.\n"
   ]
  },
  {
   "cell_type": "code",
   "execution_count": null,
   "id": "411b20b7",
   "metadata": {},
   "outputs": [],
   "source": [
    "# Sample secure login code from the application\n",
    "import sqlite3\n",
    "\n",
    "conn = sqlite3.connect(\"users.db\")\n",
    "cursor = conn.cursor()\n",
    "\n",
    "username = \"user_input\"\n",
    "password = \"pass_input\"\n",
    "\n",
    "cursor.execute(\"SELECT * FROM users WHERE username = ? AND password = ?\", (username, password))\n",
    "result = cursor.fetchone()\n",
    "\n",
    "if result:\n",
    "    print(\"✅ Access granted\")\n",
    "else:\n",
    "    print(\"❌ Login failed\")\n"
   ]
  },
  {
   "cell_type": "markdown",
   "id": "e4f18832",
   "metadata": {},
   "source": [
    "### Best Practices Summary\n",
    "\n",
    "- Never trust user input — always validate and sanitize.\n",
    "- Use **parameterized queries** or ORM libraries like SQLAlchemy.\n",
    "- Avoid building SQL strings with concatenation.\n",
    "- Log login attempts and monitor for patterns like repeated `' OR 1=1 --`.\n",
    "\n",
    "Always remember, security is a layered process, the code is your front line, make sure to keep it as safe and as clean as possible!\n"
   ]
  }
 ],
 "metadata": {
  "kernelspec": {
   "display_name": "Python 3",
   "language": "python",
   "name": "python3"
  },
  "language_info": {
   "name": "python",
   "version": "3.10"
  }
 },
 "nbformat": 4,
 "nbformat_minor": 5
}
